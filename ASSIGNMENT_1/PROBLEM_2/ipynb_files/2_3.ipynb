{
  "nbformat": 4,
  "nbformat_minor": 0,
  "metadata": {
    "colab": {
      "name": "2_3.ipynb",
      "provenance": [],
      "collapsed_sections": []
    },
    "kernelspec": {
      "name": "python3",
      "display_name": "Python 3"
    },
    "language_info": {
      "name": "python"
    }
  },
  "cells": [
    {
      "cell_type": "code",
      "execution_count": null,
      "metadata": {
        "id": "vaBz2RnTjFhP"
      },
      "outputs": [],
      "source": [
        "#Import functions from problem 2.2\n",
        "from functions_problems_2 import *\n",
        "\n",
        "import random\n",
        "import numpy as np\n",
        "import matplotlib.pyplot as plt\n",
        "\n",
        "#Uncomment this if you want to ignore the warning about the list with ndarrays of different sizes\n",
        "#np.warnings.filterwarnings(\"ignore\", category=np.VisibleDeprecationWarning)\n",
        "\n",
        "#Uncomment this if you want to raise and error for the warning about the list with ndarrays of different sizes\n",
        "#np.warnings.filterwarnings(\"error\", category=np.VisibleDeprecationWarning)"
      ]
    },
    {
      "cell_type": "code",
      "source": [
        "# Create n folds for cross validation\n",
        "def cross_validation(dataset, n):\n",
        "\n",
        "    np.random.shuffle(dataset) #shuffle the dataset\n",
        "    dataset_n_folds = np.array_split(dataset, n)  #split the dataset into n folds\n",
        "                                                    #array_split: can take an integer (n) that \n",
        "                                                    #does not equally divide the axis\n",
        "    return dataset_n_folds\n",
        "\n",
        "#Prediction for the parametric methods\n",
        "def prediction_param(x, means, variances, classes):\n",
        "\n",
        "    #a, b, c:\n",
        "    pred_list = []\n",
        "    #all_methods_probabilities = []\n",
        "    for i in range(len(means)): #for every method (#methods = 3)\n",
        "        method_probabilities = []\n",
        "\n",
        "        for j in range(len(classes)): #for every class (#classes = 2)\n",
        "            \n",
        "            probability = gaussian(x[:-1], means[i][j], variances[i][j]) #find the probabilities of the two classes\n",
        "            method_probabilities.append(probability) #gather the 2 probabilities in a list \n",
        "\n",
        "        #all_methods_probabilities.append(method_probabilities) #gather the 3 2-element lists \n",
        "        pred_list.append(np.argmax(method_probabilities)) #find the index of the largest probability\n",
        "    \n",
        "    return pred_list #return a 3-element list with the predictions of the three methods\n",
        "\n",
        "#Prediction for the non-parametric methods\n",
        "def prediction_non_param(x, means, variances, train_set, classes):\n",
        "    \n",
        "    #d\n",
        "    pred_list = []\n",
        "    method_probabilities = []\n",
        "    for j in range(len(classes)): #for every class (#classes = 2)\n",
        "\n",
        "        probability = parzen(train_set[:, :-1], x[:-1]) #find the probability of the x vector/row of the test set for the 2 classes\n",
        "        method_probabilities.append(probability) #gather the 2 probabilities in a list \n",
        "    \n",
        "    pred_list.append(np.argmax(method_probabilities)) #find the index of the largest probability\n",
        "    \n",
        "    return pred_list #return a 1-element list with the predictions of the non-parametric method"
      ],
      "metadata": {
        "id": "5Ker1y2SknAz"
      },
      "execution_count": null,
      "outputs": []
    },
    {
      "cell_type": "code",
      "source": [
        "dataset, classes_labels, num_parameters = load_dataset('pima-indians-diabetes.data') #load the dataset and return the dataset, \n",
        "                                                                                        #the labels of the classes and the number of parameters"
      ],
      "metadata": {
        "id": "qvkyqtKJjqyx"
      },
      "execution_count": null,
      "outputs": []
    },
    {
      "cell_type": "code",
      "source": [
        "n = 6 #number of folds\n",
        "fold_dataset = cross_validation(dataset, n) #create the cross validation set\n",
        "correct = np.zeros((n, 4)) #create nested list - n rows, 4 columns (the number of methods tested)"
      ],
      "metadata": {
        "id": "ibwUN3UfGg8b"
      },
      "execution_count": null,
      "outputs": []
    },
    {
      "cell_type": "code",
      "source": [
        "for index, test_set in enumerate(fold_dataset):\n",
        "\n",
        "    #create the training set\n",
        "    dataset_copy = fold_dataset.copy() #It will give us a warning if the ndarrays have different lengths \n",
        "    del dataset_copy[index]\n",
        "    train_set = np.vstack(dataset_copy)\n",
        "\n",
        "    means_a = []\n",
        "    covars_a = []\n",
        "    means_b = []\n",
        "    covars_b = []\n",
        "    means_c = []\n",
        "    covars_c = []\n",
        "\n",
        "\n",
        "    for label in classes_labels: #for each class\n",
        "\n",
        "        split_dataset = train_set[train_set[:,-1]==int(label),:-1] #Split dataset based on the class label\n",
        "\n",
        "        #Calculate the means and the covariance metrices for the parametric methods\n",
        "        mean_a, covar_a = mean_var_a(split_dataset)\n",
        "        means_a.append(mean_a)\n",
        "        covars_a.append(covar_a)\n",
        "\n",
        "        mean_b, covar_b = mean_var_b(split_dataset)\n",
        "        means_b.append(mean_b)\n",
        "        covars_b.append(covar_b)\n",
        "\n",
        "        mean_c, covar_c = mean_var_c(split_dataset)\n",
        "        means_c.append(mean_c)\n",
        "        covars_c.append(covar_c)\n",
        "\n",
        "    #Create lists of length 3, each element is a list of the means/covariance metrices of the two classes\n",
        "    means = []\n",
        "    means.append(means_a)\n",
        "    means.append(means_b)\n",
        "    means.append(means_c)\n",
        "\n",
        "    covars = []\n",
        "    covars.append(covars_a)\n",
        "    covars.append(covars_b)\n",
        "    covars.append(covars_c)\n",
        "\n",
        "\n",
        "    for test_row in test_set: #For each row of the test set\n",
        "\n",
        "        #For the parametric methods\n",
        "        preds = prediction_param(test_row, means, covars, classes_labels) #Get the predictions of the 3 methods for each row of the test set\n",
        "        \n",
        "        for pred_index in range(len(preds)):\n",
        "            if test_row[-1] == preds[pred_index]:\n",
        "                correct[index, pred_index] += 1\n",
        "\n",
        "        #For the non-parametric method\n",
        "        preds_d = prediction_non_param(test_row, means, covars, train_set, classes_labels) #Get the predictions of the method for each row of the test set\n",
        "        #If the prediction of each method is correct +1 at the corresponding matrix coordinates\n",
        "        if test_row[-1] == preds_d:\n",
        "            correct[index, 3] += 1\n",
        "\n",
        "#Get the percent accuracy\n",
        "correct[:] = (correct[:] / len(test_set)) * 100\n",
        "#Find the means\n",
        "accuracy = correct.mean(axis=0)\n",
        "\n",
        "\n",
        "print(\"Average accuracy of the 4 methods using cross validation of \" + str(n) + \" fold:\")\n",
        "\n",
        "assumptions = [\"A\", \"B\", \"C\", \"D\"]\n",
        "\n",
        "for method in range(len(accuracy)):\n",
        "    print(\"Accuracy of method \" + assumptions[method] + \": \" + str(round(accuracy[method], 2)) + \"%\")\n",
        "\n",
        "\n",
        "#Create a bar chart with the accuracies\n",
        "clrs = ['grey' if (x < max(accuracy)) else 'red' for x in accuracy ]\n",
        "plt.bar(assumptions, accuracy, align = \"center\", alpha=0.5, color = clrs)\n",
        "plt.xlabel(\"Methods\")\n",
        "plt.ylabel('Accuracy (%)')\n",
        "plt.title('Accuracy of the different methods')\n",
        "\n",
        "plt.show()\n"
      ],
      "metadata": {
        "colab": {
          "base_uri": "https://localhost:8080/",
          "height": 382
        },
        "id": "iqhtX5Z7HiMd",
        "outputId": "e54bbed3-7ca8-48c1-9539-3d8b7dead9d2"
      },
      "execution_count": null,
      "outputs": [
        {
          "output_type": "stream",
          "name": "stdout",
          "text": [
            "Average accuracy of the 4 methods using cross validation of 6 fold:\n",
            "Accuracy of method A: 66.67%\n",
            "Accuracy of method B: 74.22%\n",
            "Accuracy of method C: 75.13%\n",
            "Accuracy of method D: 65.1%\n"
          ]
        },
        {
          "output_type": "display_data",
          "data": {
            "image/png": "[encoded data removed]",
            "text/plain": [
              "<Figure size 432x288 with 1 Axes>"
            ]
          },
          "metadata": {
            "needs_background": "light"
          }
        }
      ]
    }
  ]
}