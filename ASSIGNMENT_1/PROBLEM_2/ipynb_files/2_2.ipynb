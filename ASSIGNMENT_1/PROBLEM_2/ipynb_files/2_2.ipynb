{
  "cells": [
    {
      "cell_type": "code",
      "execution_count": null,
      "id": "c8b21d16",
      "metadata": {
        "id": "c8b21d16"
      },
      "outputs": [],
      "source": [
        "\"\"\"\n",
        "Problem 2.2\n",
        "\"\"\"\n",
        "import numpy as np\n",
        "import pandas as pd\n",
        "import matplotlib.pyplot as plt"
      ]
    },
    {
      "cell_type": "code",
      "execution_count": null,
      "id": "fsnLJ0eTrT2L",
      "metadata": {
        "id": "fsnLJ0eTrT2L"
      },
      "outputs": [],
      "source": [
        "# The load_dataset function takes a csv file as argument and returns the data set array, \n",
        "# the unique class labels and the number of features:\n",
        "def load_dataset(filename):\n",
        "    \n",
        "    # loads data set in the dataset array\n",
        "    dataset = np.genfromtxt(filename, dtype='float', delimiter=',')\n",
        "    dataset = np.array(dataset)\n",
        "    \n",
        "    # array with the unique class labels\n",
        "    class_labels = np.unique(dataset[:, -1])\n",
        "\n",
        "    return dataset, class_labels, len(dataset[0,:-1])\n",
        "\n",
        "\"\"\"\n",
        "Finds the mean and the covariance matrices(diagonal, with all diagonal elements equal) for Question (a)\n",
        "Parameters:\n",
        "-data_set: The splitted dataset\n",
        "Returns:\n",
        "-mean: The mean vector\n",
        "-covar_matrix: The covariance matrix\n",
        "\"\"\"\n",
        "def mean_var_a(data_set):\n",
        "    mean = np.mean(data_set,axis=0)\n",
        "\n",
        "    dif = (data_set - mean)\n",
        "    var = np.sum(np.dot(dif.T, dif)) / (data_set.shape[1] * data_set.shape[0])\n",
        "\n",
        "    covar_matrix = var*np.identity(len(data_set[0]))\n",
        "\n",
        "    return mean, covar_matrix\n",
        "\n",
        "\"\"\"\n",
        "Finds the mean and the covariance matrices (non-diagonal).\n",
        "Means and covariance matrices of the pdfs are estimated using Maximum Likelihood \n",
        "from the available data. For Question (b)\n",
        "Parameters:\n",
        "-data_set: The splitted dataset\n",
        "Returns:\n",
        "-mean: The mean vector\n",
        "-covar_matrix: The covariance matrix\n",
        "\"\"\"\n",
        "def mean_var_b(data_set):\n",
        "    mean = np.mean(data_set,axis=0)\n",
        "    \n",
        "    dif = (data_set - mean)\n",
        "    covar_matrix = np.dot(dif.T, dif) / data_set.shape[0]\n",
        "\n",
        "    return mean, covar_matrix\n",
        "\n",
        "\n",
        "\"\"\"\n",
        "Finds the mean and the covariance matrices.\n",
        "Components of the feature vectors are mutually statistically independent\n",
        "Marginal Pdfs are gaussian, with parameters (mean, variance) estimated using Maximum Likelihood \n",
        "from the available data. For Question (c)\n",
        "Parameters:\n",
        "-data_set: The splitted dataset\n",
        "Returns:\n",
        "-mean: The mean vector\n",
        "-covar_matrix: The covariance matrix\n",
        "\"\"\"\n",
        "def mean_var_c(data_set):\n",
        "    mean = np.mean(data_set,axis=0)\n",
        "\n",
        "    dif = (data_set - mean)\n",
        "\n",
        "    var = np.var(data_set,axis=0)\n",
        "    covar_matrix = var*np.identity(len(data_set[0]))\n",
        "\n",
        "    return mean, covar_matrix\n",
        "\n",
        "\"\"\"\n",
        "Finds the mean and the covariance matrices.\n",
        "Components of the feature vectors are mutually statistically independent\n",
        "Marginal Pdfs are gaussian, with parameters (mean, variance) estimated using Maximum Likelihood \n",
        "from the available data. For Question (c)\n",
        "Parameters:\n",
        "-data_set: The splitted dataset\n",
        "-x: A row of the data_set\n",
        "Returns:\n",
        "-parz: A probability\n",
        "\"\"\"\n",
        "def parzen(data_set,x): \n",
        "    \n",
        "    # Number of rows\n",
        "    N = len(data_set)\n",
        "    \n",
        "    h=np.sqrt(N)\n",
        "\n",
        "    # Calculates the pd for all points of data_set, for each dimension separately, using as mean the x \n",
        "    # and as variance the h^2:\n",
        "    p = gaussian(data_set, x, h**2, 1)\n",
        "\n",
        "    # Sums the pd's over all points of the data_set\n",
        "    parz = np.sum(p,axis=0)/N\n",
        "    \n",
        "    # Multiplies the pd's of all the dimensions together to get the final pd of x\n",
        "    parz = np.prod(parz)\n",
        "\n",
        "    return parz\n",
        "\n",
        "\n",
        "\"\"\"\n",
        "The gaussian function calculates the pd for all points of a data set, for each dimension separately.\n",
        "Parameters:\n",
        "-dataset\n",
        "-mean: Mean vector\n",
        "-var: Covariance matrix\n",
        "-dimension: If dimensions = 1 then implement for 1D Parzen\n",
        "Results:\n",
        "-prob: Probability\n",
        "\"\"\"\n",
        "\n",
        "def gaussian(dataset, mean = None, var = None, dimension = None):\n",
        "    # calculates the pd for univariate gaussian distribution:\n",
        "    if dimension == 1:\n",
        "        nom = np.exp((-(dataset-mean)**2)/(2*var))\n",
        "        denom = (2 * np.pi * var)**0.5 \n",
        "        prob = nom / denom\n",
        "    \n",
        "    # calculates the pd for multivariate gaussian distribution:\n",
        "    else:\n",
        "        num_params = len(mean)\n",
        "        nom = np.exp( -0.5 * (((dataset - mean) @ np.linalg.inv(var)) @ (dataset - mean).T))\n",
        "        denom = ((2* np.pi) ** (num_params/2)) * (np.linalg.det(var) ** 0.5)\n",
        "        prob = nom / denom     \n",
        "        \n",
        "    return prob\n",
        "\n",
        "# The plot_aic_bic function takes the AIC and BIC scores of a specific class, calculated for Questions A, B, C, D,\n",
        "# plots them in the same plot and saves them as a png file:\n",
        "def plot_aic_bic(aics, bics, class_label):\n",
        "    assumptions = [\"A\", \"B\", \"C\", \"D\"]\n",
        "    aics_bics = np.vstack((aics, bics))\n",
        "    y = aics_bics.T\n",
        "    df = pd.DataFrame(y, columns=[\"AIC\", \"BIC\"])\n",
        "    df.insert(1, \"Assumptions\", assumptions, True)\n",
        "    df.plot(x=\"Assumptions\", y=[\"AIC\", \"BIC\"], kind=\"bar\", rot=0)\n",
        "\n",
        "    if class_label == 0:\n",
        "        plt.savefig(\"2_2_a.png\")\n",
        "    else:\n",
        "        plt.savefig(\"2_2_b.png\")\n",
        "\n",
        "      \n",
        "    plt.show()"
      ]
    },
    {
      "cell_type": "code",
      "execution_count": null,
      "id": "QyRUd01iR3NK",
      "metadata": {
        "id": "QyRUd01iR3NK"
      },
      "outputs": [],
      "source": [
        "# The gof function calculates the AIC and BIC scores:\n",
        "def gof(data_set, k, mean= None, var = None, dimension = None):\n",
        "    log_th = 0\n",
        "    \n",
        "    # for Questions A, B, C with the respective mean and var:\n",
        "    if dimension != 1:\n",
        "        for row in data_set:\n",
        "            # calls the gaussian function\n",
        "            p_x = gaussian(row, mean, var)\n",
        "            log_th += np.log(p_x)\n",
        "\n",
        "    # for Question D:\n",
        "    else:\n",
        "        for row in data_set:\n",
        "            #calls d function\n",
        "            log_th += np.log(parzen(data_set, row)) \n",
        "    \n",
        "    # calculates the AIC score\n",
        "    aic = -2 * log_th + k * 2\n",
        "    # calculates the BIC score\n",
        "    bic = -2 * log_th + k * np.log(data_set.shape[0])\n",
        "\n",
        "    return aic, bic"
      ]
    },
    {
      "cell_type": "code",
      "execution_count": null,
      "id": "j8ewaexprRgC",
      "metadata": {
        "id": "j8ewaexprRgC"
      },
      "outputs": [],
      "source": [
        "# loads the PIMA INDIANS DIABETES DATABASE\n",
        "dataset, classes_labels, num_parameters = load_dataset('pima-indians-diabetes.data')"
      ]
    },
    {
      "cell_type": "code",
      "execution_count": null,
      "id": "ouW17U8HO5nS",
      "metadata": {
        "colab": {
          "base_uri": "https://localhost:8080/",
          "height": 715
        },
        "id": "ouW17U8HO5nS",
        "outputId": "f68b6a77-773f-4adb-ce28-5ed84e386390"
      },
      "outputs": [
        {
          "output_type": "stream",
          "name": "stdout",
          "text": [
            "Results for Class 0:\n",
            "ASSUMPTION A: AIC = 40515.922320172955 and BIC = 40553.853793058755\n",
            "ASSUMPTION B: AIC = 28576.82331525886 and BIC = 28762.266071589434\n",
            "ASSUMPTION C: AIC = 29221.34727233397 and BIC = 29288.781001908723\n",
            "ASSUMPTION D: AIC = 35440.99975100932 and BIC = 35445.21435910775\n"
          ]
        },
        {
          "output_type": "display_data",
          "data": {
            "image/png": "[encoded data removed]",
            "text/plain": [
              "<Figure size 432x288 with 1 Axes>"
            ]
          },
          "metadata": {
            "needs_background": "light"
          }
        },
        {
          "output_type": "stream",
          "name": "stdout",
          "text": [
            "Results for Class 1:\n",
            "ASSUMPTION A: AIC = 23053.769172013224 and BIC = 23086.088054837823\n",
            "ASSUMPTION B: AIC = 16111.863890855151 and BIC = 16269.867317997629\n",
            "ASSUMPTION C: AIC = 16316.767199082524 and BIC = 16374.222990770697\n",
            "ASSUMPTION D: AIC = 18416.273162215195 and BIC = 18419.864149195706\n"
          ]
        },
        {
          "output_type": "display_data",
          "data": {
            "image/png": "[encoded data removed]",
            "text/plain": [
              "<Figure size 432x288 with 1 Axes>"
            ]
          },
          "metadata": {
            "needs_background": "light"
          }
        }
      ],
      "source": [
        "# initialization of aics list\n",
        "aics = []\n",
        "# initialization of bics list\n",
        "bics = []\n",
        "\n",
        "# Repeats the following for each class label separately:\n",
        "for label in classes_labels:\n",
        "    #Split dataset based on the class label\n",
        "    split_dataset = dataset[dataset[:,-1]==int(label),:-1]\n",
        "    print('Results for Class', str(int(label)) + \":\")\n",
        "\n",
        "    #Get the pdf parameters for the parametric problems\n",
        "    mean_a, covar_a = mean_var_a(split_dataset)\n",
        "    mean_b, covar_b = mean_var_b(split_dataset)\n",
        "    mean_c, covar_c = mean_var_c(split_dataset)\n",
        "\n",
        "\n",
        "    #Question A\n",
        "    #the number of estimated parameters in the candidate model\n",
        "    k_param = len(mean_a) + 1 #parameters of the mean vector plus the variance\n",
        "    aic, bic = gof(split_dataset, k_param, mean_a, covar_a)\n",
        "    aics.append(aic)\n",
        "    bics.append(bic)\n",
        "    print(\"ASSUMPTION A: AIC = %s and BIC = %s\" % (aic, bic))\n",
        "\n",
        "    #Question B\n",
        "    k_param = len(mean_b) + covar_b.shape[0] * (covar_b.shape[1] + 1) / 2 #parameters of the mean vector plus the parameters of the covariance matrix which is symmetric\n",
        "    aic, bic = gof(split_dataset, k_param, mean_b, covar_b)\n",
        "    aics.append(aic)\n",
        "    bics.append(bic)\n",
        "    print(\"ASSUMPTION B: AIC = %s and BIC = %s\" % (aic, bic))\n",
        "\n",
        "    #Question C\n",
        "    k_param = len(mean_c) + covar_c.shape[0] #parameters of the mean vector plus the parameters the diagonal covariance matrix\n",
        "    aic, bic = gof(split_dataset, k_param, mean_c, covar_c)\n",
        "    aics.append(aic)\n",
        "    bics.append(bic)\n",
        "    print(\"ASSUMPTION C: AIC = %s and BIC = %s\" % (aic, bic))\n",
        "\n",
        "    #Question D\n",
        "    #Non parametric problem\n",
        "    k_param = 1 #The h parameter. We did not consider the mean vector and the variance of the pdf as estimated parameters in the model because they are derived from the dataset.\n",
        "    aic, bic = gof(split_dataset, k_param, dimension = 1)\n",
        "    aics.append(aic)\n",
        "    bics.append(bic)\n",
        "    print(\"ASSUMPTION D: AIC = %s and BIC = %s\" % (aic, bic))\n",
        "    \n",
        "    plot_aic_bic(aics, bics, int(label))\n",
        "\n",
        "    aics = []\n",
        "    bics = []"
      ]
    }
  ],
  "metadata": {
    "colab": {
      "name": "2_2.ipynb",
      "provenance": []
    },
    "kernelspec": {
      "display_name": "Python 3",
      "language": "python",
      "name": "python3"
    },
    "language_info": {
      "codemirror_mode": {
        "name": "ipython",
        "version": 3
      },
      "file_extension": ".py",
      "mimetype": "text/x-python",
      "name": "python",
      "nbconvert_exporter": "python",
      "pygments_lexer": "ipython3",
      "version": "3.8.8"
    }
  },
  "nbformat": 4,
  "nbformat_minor": 5
}