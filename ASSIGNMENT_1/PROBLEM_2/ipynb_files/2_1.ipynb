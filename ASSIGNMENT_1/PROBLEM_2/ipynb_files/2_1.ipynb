{
  "cells": [
    {
      "cell_type": "code",
      "source": [
        "\"\"\"\n",
        "Problem 2.1\n",
        "\"\"\"\n",
        "\n",
        "import pandas as pd\n",
        "import numpy as np\n",
        "import copy\n",
        "import random\n",
        "import matplotlib.pyplot as plt"
      ],
      "metadata": {
        "id": "BUU2wiSEzjCK"
      },
      "id": "BUU2wiSEzjCK",
      "execution_count": 1,
      "outputs": []
    },
    {
      "cell_type": "code",
      "source": [
        "# Loads the IRIS PLANT DATABASE:\n",
        "iris_data = pd.read_csv('iris.data', header=None)\n",
        "# Loads the PIMA INDIANS DIABETES DATABASE:\n",
        "indians_data = pd.read_csv('pima-indians-diabetes.data', header=None)"
      ],
      "metadata": {
        "id": "Im0a4Hg0zlXX"
      },
      "id": "Im0a4Hg0zlXX",
      "execution_count": 2,
      "outputs": []
    },
    {
      "cell_type": "code",
      "source": [
        "\"\"\"\n",
        "Implementation of the k-Nearest Neighbour algorithm\n",
        "Parameters:\n",
        "-train_set: The training set\n",
        "-test_set: The test set\n",
        "-k: k Nearest Neighbouts\n",
        "Returns:\n",
        "-test_pred: The test_set with an extra column in the end containing the predicted class for a given number k of k-NN\n",
        "\"\"\"\n",
        "def kNN(train_set,test_set,k): # train_set and test_set have the class of each row in the last column!\n",
        "    \n",
        "    # train: train_set without the last column containing the class labels\n",
        "    train = train_set.drop(train_set.columns[[-1]],axis=1)\n",
        "    \n",
        "    # test: test_set without the last column containing the class labels    \n",
        "    test = test_set.drop(test_set.columns[[-1]],axis=1)\n",
        "    \n",
        "    test_pred = copy.deepcopy(test_set)\n",
        "    \n",
        "    # Adds an extra column in the end of test_pred, named \"Prediction\":\n",
        "    if type(test_pred.iloc[1,-1]) is str:   # if class labels are strings\n",
        "        test_pred['Prediction'] = \"\"\n",
        "    elif type(test_pred.iloc[1,-1]) is np.int64:   # if class labels are integers\n",
        "        test_pred['Prediction'] = np.nan\n",
        "    \n",
        "    # Iterates over the rows of test:\n",
        "    for index, row in test.iterrows():\n",
        "        # Calculates the Euclidean distance between the row (point) of test and every row (point) in train\n",
        "        diff = train.subtract(row,axis=1)\n",
        "        dist = np.linalg.norm(diff.to_numpy(),axis=1)\n",
        "        # Creates a dataframe dist_class, containing the distances calculated above in column \"Distance\"\n",
        "        # and the respective class of every row (point) from train_set\n",
        "        dist_class = pd.DataFrame({'Distance':dist,'Class':train_set.iloc[:,-1]})\n",
        "        # Sorts dist_class based on the \"Distance\" values\n",
        "        dist_class = dist_class.sort_values('Distance')\n",
        "        dist_class = dist_class.reset_index(drop=True)\n",
        "        \n",
        "        # dist_class_k contains only the first k rows of dist_class\n",
        "        dist_class_k = dist_class.iloc[:k,:]\n",
        "        # pred is the most frequent class label in dist_class_k. In case of equifrequent classes, it randomly picks one\n",
        "        pred = dist_class_k['Class'].value_counts().idxmax()\n",
        "        # Adds the prediction (pred) for the specific row at the last column of test_pred\n",
        "        test_pred.iat[index,-1] = pred\n",
        "    return test_pred\n",
        "\n",
        "\n",
        "\n",
        "\"\"\"\n",
        "Implementation of the cross validation\n",
        "Parameters:\n",
        "-data_set: The dataset\n",
        "-q: Number of folds\n",
        "Returns:\n",
        "-test_array: An array with dimensions (q)x(N/q) with each row containing the indices of the rows of the data_set that\n",
        "will be the test set for the q-fold cross validation\n",
        "\"\"\"\n",
        "def cross_val(data_set,q): # q: repetitions of cross-validation (choose carefully so that N%q=0 !!!)\n",
        "    N = data_set.shape[0]\n",
        "    N_cv = int(N/q)\n",
        "    N_train = N - N_cv\n",
        "    \n",
        "    # list with all the indices (N) of the data_set rows\n",
        "    all_data = list(range(N))\n",
        "    test_array = np.zeros((q,N_cv))\n",
        "    \n",
        "    for t in range(q):\n",
        "        # Selects N_cv random indices\n",
        "        cv_rows = random.sample(all_data,N_cv)\n",
        "        # Removes those indices so they don't get picked again in the test sets\n",
        "        for i in cv_rows:\n",
        "            all_data.remove(i)\n",
        "        test = np.array(cv_rows)\n",
        "        test_array[t,:] = test\n",
        "    # turns all elements in test_array into integers\n",
        "    test_array = np.int_(test_array)\n",
        "    return test_array\n",
        "\n",
        "\n",
        "\"\"\"\n",
        "Solution for Problem 2 - Exercise 1 (returns a (k_max)x2 array, with the 1st column containing the k's\n",
        "and the 2nd column containing the percentage of correct class prediction from k=1 to k=k_max, respectively):\n",
        "q: repetitions of cross-validation (choose carefully so that N%q=0 !!!)\n",
        "k_max: maximum number of kNN-neighbours to test \n",
        "\"\"\"\n",
        "def main(data_set,q,k_max):\n",
        "    # Calls the cross_val function\n",
        "    cv_array = cross_val(data_set,q)\n",
        "    # Initialization of k_correct\n",
        "    k_correct = np.zeros((q,k_max))\n",
        "    # Calculates the correct predictions for k=1 to k=k_max, for every training and test set combination (q in total):\n",
        "    for m in range(q):\n",
        "        cv_row = cv_array[m,:]\n",
        "        cv = data_set.iloc[cv_row,:]\n",
        "        cv = cv.reset_index(drop=True) # cross-validation set (test set)\n",
        "        training = data_set.drop(data_set.index[cv_row])\n",
        "        training = training.reset_index(drop=True) # training set\n",
        "        \n",
        "        for k in range(1,k_max+1):\n",
        "            # calls kNN function\n",
        "            prediction = kNN(training,cv,k)\n",
        "            # calculates the correct predictions\n",
        "            correct = sum(prediction.iloc[:,-2] == prediction.iloc[:,-1])\n",
        "            # adds the number of correct predictions in k_correct\n",
        "            k_correct[m,k-1] = correct\n",
        "    # Sums the number of correct predictions for each k\n",
        "    k_correct = np.sum(k_correct,axis=0)\n",
        "    # Calculates the percentage of correct predictions\n",
        "    k_correct = (k_correct/data_set.shape[0])*100\n",
        "    # Dataframe with the 1st column containing the k's and the 2nd containing the percentage of correct predictions\n",
        "    ans = pd.DataFrame({'k-NN':np.array(range(1,k_max+1)), 'Correct prediction %': np.round(k_correct,1)})\n",
        "    # Returns index of the maximum percentage of correct prediction\n",
        "    idx = ans[['Correct prediction %']].idxmax()\n",
        "    return ans, idx\n",
        "\n",
        "\n",
        "\n",
        "\"\"\"\n",
        "The plot_results function plots the result from the function prob2_ex1\n",
        "data: data returned from function prob2_ex1\n",
        "dt_name: 'iris' or 'indians'\n",
        "\"\"\"\n",
        "def plot_results(data, dt_name):\n",
        "    plt.plot(data.iloc[:,0],data.iloc[:,1], color='r')\n",
        "    plt.xlabel(\"Number of Nearest Neighbours\")\n",
        "    plt.ylabel(\"% Correct Classification\")\n",
        "    if dt_name == 'iris':\n",
        "        plt.suptitle(\"Iris Plant Database\", y = 1.02, fontsize = 18)\n",
        "    elif dt_name == 'indians':\n",
        "        plt.suptitle(\"Pima Indians Diabetes Database\", y = 1.02, fontsize = 18)\n",
        "    plt.title(\"Percentage of Correct Classification Vs. Number of Nearest Neighbours\", fontsize = 10)\n",
        "    plt.grid()\n",
        "    plt.show()"
      ],
      "metadata": {
        "id": "Kbh4LFT1zpVy"
      },
      "id": "Kbh4LFT1zpVy",
      "execution_count": 3,
      "outputs": []
    },
    {
      "cell_type": "code",
      "execution_count": 4,
      "id": "9202057d",
      "metadata": {
        "colab": {
          "base_uri": "https://localhost:8080/",
          "height": 762
        },
        "id": "9202057d",
        "outputId": "ed69e8bb-8a42-41e2-dc0a-80ff37c6b33e"
      },
      "outputs": [
        {
          "output_type": "display_data",
          "data": {
            "image/png": "[encoded data removed]",
            "text/plain": [
              "<Figure size 432x288 with 1 Axes>"
            ]
          },
          "metadata": {
            "needs_background": "light"
          }
        },
        {
          "output_type": "stream",
          "name": "stdout",
          "text": [
            "The optimal k for k-NN classification is: \n",
            "\n",
            " k-NN  Correct prediction %\n",
            "    2                  97.3\n"
          ]
        },
        {
          "output_type": "display_data",
          "data": {
            "image/png": "[encoded data removed]",
            "text/plain": [
              "<Figure size 432x288 with 1 Axes>"
            ]
          },
          "metadata": {
            "needs_background": "light"
          }
        },
        {
          "output_type": "stream",
          "name": "stdout",
          "text": [
            "The optimal k for k-NN classification is: \n",
            "\n",
            " k-NN  Correct prediction %\n",
            "   13                  75.1\n"
          ]
        }
      ],
      "source": [
        "# Answer for Problem 2/Exercise 1/a with 5-fold cross-validation:\n",
        "q = 5\n",
        "k_maximum = int(iris_data.shape[0] - iris_data.shape[0]/q)\n",
        "iris, index = main(iris_data,q,k_maximum)\n",
        "plot_results(iris, 'iris')\n",
        "optimal = iris.iloc[index,:].to_string(index=False)\n",
        "print(\"The optimal k for k-NN classification is: \\n\")\n",
        "print(optimal)\n",
        "\n",
        "\n",
        "# Answer for Problem 2/Exercise 1/b with 6-fold cross-validation:\n",
        "q2 = 6\n",
        "k_maximum2 = int(indians_data.shape[0] - indians_data.shape[0]/q2)\n",
        "indians, index2 = main(indians_data,q2,k_maximum2)\n",
        "plot_results(indians, 'indians')\n",
        "optimal2 = indians.iloc[index2,:].to_string(index=False)\n",
        "print(\"The optimal k for k-NN classification is: \\n\")\n",
        "print(optimal2)"
      ]
    }
  ],
  "metadata": {
    "kernelspec": {
      "display_name": "Python 3",
      "language": "python",
      "name": "python3"
    },
    "language_info": {
      "codemirror_mode": {
        "name": "ipython",
        "version": 3
      },
      "file_extension": ".py",
      "mimetype": "text/x-python",
      "name": "python",
      "nbconvert_exporter": "python",
      "pygments_lexer": "ipython3",
      "version": "3.8.8"
    },
    "colab": {
      "name": "2_1.ipynb",
      "provenance": [],
      "collapsed_sections": []
    }
  },
  "nbformat": 4,
  "nbformat_minor": 5
}