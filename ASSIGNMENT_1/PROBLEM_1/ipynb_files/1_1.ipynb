{
  "nbformat": 4,
  "nbformat_minor": 0,
  "metadata": {
    "colab": {
      "name": "1_1.ipynb",
      "provenance": []
    },
    "kernelspec": {
      "name": "python3",
      "display_name": "Python 3"
    },
    "language_info": {
      "name": "python"
    }
  },
  "cells": [
    {
      "cell_type": "code",
      "source": [
        "\"\"\"\n",
        "Problem 1.1\n",
        "\n",
        "Using N=20, sigma_squared_noise = 0.1 and the structure of the correct model \n",
        "(5th degree polynomial with the coefficient of the 4th power equal to zero), \n",
        "apply the Least Squares method to estimate the parameter vector. \n",
        "Calculate the Mean Square Error of y over the training set and over a test set \n",
        "comprising of 1000 points randomly selected in the interval [0,2].\n",
        "\n",
        "The true components of the training vector: [0.2, -1, 0.9, 0.7, 0, -0.2]\n",
        "The noise is white Gaussia, mean=0\n",
        "\n",
        "\"\"\"\n",
        "import numpy as np\n",
        "import matplotlib.pyplot as plt\n",
        "import scipy.stats\n",
        "from functions_problems_1a import *"
      ],
      "metadata": {
        "id": "bgq88qMMwMN3"
      },
      "execution_count": 1,
      "outputs": []
    },
    {
      "cell_type": "code",
      "source": [
        "\"\"\"\n",
        "Predetermined parameters of the problem\n",
        "\"\"\"\n",
        "#True thetas\n",
        "thetas = np.array([0.2, -1, 0.9, 0.7, 0, -0.2])\n",
        "\n",
        "#Degree of the polynomial model\n",
        "degrees_pol = 5\n",
        "\n",
        "#Interval\n",
        "lower_bound = 0\n",
        "upper_bound = 2\n",
        "\n",
        "#Total number of values from the interval\n",
        "N = 20"
      ],
      "metadata": {
        "id": "jTuJY2kmwR1p"
      },
      "execution_count": 2,
      "outputs": []
    },
    {
      "cell_type": "code",
      "source": [
        "\"\"\"\n",
        "For the Training set\n",
        "\"\"\"\n",
        "#Create the training set, produce 20 equidistant points in [0,2]\n",
        "X = np.linspace(lower_bound, upper_bound, N)\n",
        "\n",
        "#Create the polynomial matrix for X and add a column of ones\n",
        "X_pol = X\n",
        "for i in range(2,degrees_pol+1):\n",
        "    X_pol = np.c_[X_pol, X**(i)]    #add the 5 polynomial degrees of each xi \n",
        "Phi = np.c_[np.ones((N,1)), X_pol]  #add x0 = 1 to each instance\n",
        "\n",
        "\n",
        "noise_train = noise(0, 0.1**0.5, N)\n",
        "\n",
        "y_train = y_vector(thetas, Phi)\n",
        "y = np.add(y_train,noise_train) # add noise on each yi\n",
        "\n",
        "# Least Squares: Calculate the best thetas using the training set (Phi and y)\n",
        "theta_LS = least_squares(Phi, y)\n",
        "\n",
        "#Calculated the best values of y from the best thetas and the Phi array\n",
        "y_train_newthetas = y_vector(theta_LS, Phi)\n",
        "\n",
        "#Calculate the Mean Square Error of y over the training set\n",
        "MSE_training = mse(y, y_train_newthetas)\n",
        "print(\"The estimated parameter vector:\", theta_LS)\n",
        "print(\"The Mean Square Error of y over the Train set: \", round(MSE_training, 5))\n",
        "\n",
        "#Blue line is the true model, the red dots are the predicted points\n",
        "plt.title(\"Training set\")\n",
        "plt.plot(X,y_train,'-',X,y_train_newthetas,'ro')\n",
        "plt.xlabel('X')\n",
        "plt.ylabel('Y')\n",
        "plt.show()\n",
        "plt.savefig(\"1_1_a.png\")"
      ],
      "metadata": {
        "id": "rZbtDpf8wSu9",
        "colab": {
          "base_uri": "https://localhost:8080/",
          "height": 364
        },
        "outputId": "96495e3b-3d8e-40c9-9221-389525286efb"
      },
      "execution_count": 3,
      "outputs": [
        {
          "output_type": "stream",
          "name": "stdout",
          "text": [
            "The estimated parameter vector: [  0.19252522  -6.09767107  18.93481593 -21.86911552  11.76111159\n",
            "  -2.37964916]\n",
            "The Mean Square Error of y over the Train set:  0.06735\n"
          ]
        },
        {
          "output_type": "display_data",
          "data": {
            "image/png": "[encoded data removed]",
            "text/plain": [
              "<Figure size 432x288 with 1 Axes>"
            ]
          },
          "metadata": {
            "needs_background": "light"
          }
        },
        {
          "output_type": "display_data",
          "data": {
            "text/plain": [
              "<Figure size 432x288 with 0 Axes>"
            ]
          },
          "metadata": {}
        }
      ]
    },
    {
      "cell_type": "code",
      "execution_count": 4,
      "metadata": {
        "colab": {
          "base_uri": "https://localhost:8080/",
          "height": 330
        },
        "id": "8SXDt45d6OZ3",
        "outputId": "99d3b5f7-6821-4e12-e452-518ca1b51e58"
      },
      "outputs": [
        {
          "output_type": "stream",
          "name": "stdout",
          "text": [
            "The Mean Square Error of y over the Test set:  0.14543\n"
          ]
        },
        {
          "output_type": "display_data",
          "data": {
            "image/png": "[encoded data removed]",
            "text/plain": [
              "<Figure size 432x288 with 1 Axes>"
            ]
          },
          "metadata": {
            "needs_background": "light"
          }
        },
        {
          "output_type": "display_data",
          "data": {
            "text/plain": [
              "<Figure size 432x288 with 0 Axes>"
            ]
          },
          "metadata": {}
        }
      ],
      "source": [
        "\"\"\"\n",
        "For the Test set\n",
        "\"\"\"\n",
        "#Test set comprising of 1000 points randomly selected in the interval [0,2].\n",
        "N_test = 1000\n",
        "x_test = np.random.uniform(lower_bound, upper_bound, N_test)\n",
        "\n",
        "#Create the polynomial matrix for Phi_test and add a column of ones\n",
        "X_test_pol = x_test\n",
        "for i in range(2,degrees_pol+1):\n",
        "    X_test_pol = np.c_[X_test_pol, x_test**(i)]    #add the 5 polynomial degrees of each xi \n",
        "Phi_test = np.c_[np.ones((N_test,1)), X_test_pol]  #add x0 = 1 to each instance\n",
        "\n",
        "#Calculated the values of y from the true thetas and the Phi_test array\n",
        "y_test = y_vector(thetas, Phi_test)\n",
        "\n",
        "noise_vector_test = noise(0, 0.1**0.5, N_test)\n",
        "y_test_noise = np.add(y_test, noise_vector_test)\n",
        "\n",
        "#Calculated the values of y from the new thetas and the Phi_test array\n",
        "y_LS_test = y_vector(theta_LS, Phi_test)\n",
        "\n",
        "\n",
        "#Calculate the Mean Square Error of y over the test set\n",
        "MSE_test_set = mse(y_test_noise, y_LS_test)\n",
        "print(\"The Mean Square Error of y over the Test set: \", round(MSE_test_set, 5))\n",
        "\n",
        "#Blue dots are the true model, the red dots are the predicted points\n",
        "plt.title(\"Test set\")\n",
        "plt.plot(x_test,y_test,'o',x_test,y_LS_test,'ro')\n",
        "plt.xlabel('X')\n",
        "plt.ylabel('Y')\n",
        "plt.show()\n",
        "plt.savefig(\"1_1_b.png\")"
      ]
    }
  ]
}