{
  "nbformat": 4,
  "nbformat_minor": 0,
  "metadata": {
    "colab": {
      "name": "1_3.ipynb",
      "provenance": []
    },
    "kernelspec": {
      "name": "python3",
      "display_name": "Python 3"
    },
    "language_info": {
      "name": "python"
    }
  },
  "cells": [
    {
      "cell_type": "code",
      "source": [
        "\"\"\"\n",
        "Problem 1.3\n",
        "\n",
        "Repeat experiment (1) above, implementing the Ridge Regression method with \n",
        "various values of λ (instead of the Least Squares Method). Report whether you \n",
        "have observed an improvement of the Mean Square Error for some of the values of \n",
        "λ. \n",
        "\n",
        "The true components of the training vector: [0.2, -1, 0.9, 0.7, 0, -0.2]\n",
        "The noise is white Gaussia, mean=0\n",
        "\n",
        "\"\"\"\n",
        "import numpy as np\n",
        "import matplotlib.pyplot as plt\n",
        "import scipy.stats\n",
        "from functions_problems_1a import *"
      ],
      "metadata": {
        "id": "hatTtLlCxLeR"
      },
      "execution_count": 1,
      "outputs": []
    },
    {
      "cell_type": "code",
      "source": [
        "\"\"\"\n",
        "Predetermined parameters of the problem\n",
        "\"\"\"\n",
        "#True thetas\n",
        "thetas = np.array([0.2, -1, 0.9, 0.7, 0, -0.2])\n",
        "\n",
        "#True Degrees of the polynomial model\n",
        "true_degrees_pol = 5\n",
        "\n",
        "#Interval\n",
        "lower_bound = 0\n",
        "upper_bound = 2\n",
        "\n",
        "degrees_pol = 5\n",
        "\n",
        "#Total number of values from the interval\n",
        "N = 20"
      ],
      "metadata": {
        "id": "v7ub6ohSxO3e"
      },
      "execution_count": 2,
      "outputs": []
    },
    {
      "cell_type": "code",
      "source": [
        "\"\"\"\n",
        "Create the training set\n",
        "\"\"\"\n",
        "#Create the training set\n",
        "X = np.linspace(lower_bound, upper_bound, N)\n",
        "\n",
        "#Create the polynomial matrix for X and add a column of ones\n",
        "X_pol = X\n",
        "for i in range(2,true_degrees_pol+1):\n",
        "    X_pol = np.c_[X_pol, X**(i)]    #add the 5 polynomial degrees of each xi \n",
        "Phi_train = np.c_[np.ones((N,1)), X_pol]  #add x0 = 1 to each instance\n",
        "\n",
        "noise_train = noise(0, 0.1**0.5, N)\n",
        "\n",
        "y_train = y_vector(thetas, Phi_train)\n",
        "y_train_noise = np.add(y_train,noise_train) # add noise on each yi"
      ],
      "metadata": {
        "id": "CGMxTUlxxQjr"
      },
      "execution_count": 3,
      "outputs": []
    },
    {
      "cell_type": "code",
      "source": [
        "\"\"\"\n",
        "Implement Ridge Regression for different lamdas\n",
        "\"\"\"\n",
        "#Ridge Regression: Calculate the best thetas using the training set\n",
        "lambda_vector = np.linspace(0, 10, 1001) #the range in which λ takes values (0.01 step)\n",
        "theta_train_matrix = np.zeros(Phi_train.shape[1])\n",
        "\n",
        "\n",
        "#print(theta_train_matrix)\n",
        "for l in lambda_vector:\n",
        "    theta_train = ridge_regression(Phi_train, y_train_noise, l)\n",
        "    theta_train_matrix = np.vstack((theta_train_matrix, theta_train))\n",
        "\n",
        "theta_train_matrix = np.delete(theta_train_matrix, 0, axis = 0)"
      ],
      "metadata": {
        "id": "sbSw9lGexSLI"
      },
      "execution_count": 4,
      "outputs": []
    },
    {
      "cell_type": "code",
      "source": [
        "print(lambda_vector)"
      ],
      "metadata": {
        "colab": {
          "base_uri": "https://localhost:8080/"
        },
        "id": "3a_u7HqBXjqo",
        "outputId": "2deab3c8-1bf9-4ad8-9e33-c7c2c4150c0c"
      },
      "execution_count": 5,
      "outputs": [
        {
          "output_type": "stream",
          "name": "stdout",
          "text": [
            "[ 0.    0.01  0.02 ...  9.98  9.99 10.  ]\n"
          ]
        }
      ]
    },
    {
      "cell_type": "code",
      "source": [
        "\"\"\"\n",
        "Training set\n",
        "\"\"\"\n",
        "#Predict new y using the calculated thetas\n",
        "y_train_RR_matrix = np.zeros(Phi_train.shape[0])\n",
        "for vector in theta_train_matrix:\n",
        "    y_train_RR_vector = y_vector(vector, Phi_train)\n",
        "    y_train_RR_matrix = np.vstack((y_train_RR_matrix, y_train_RR_vector))\n",
        "\n",
        "y_train_RR_matrix = np.delete(y_train_RR_matrix, 0, axis = 0)\n",
        "\n",
        "#Calculate the MSE\n",
        "mse_train_matrix = mse(y_train_noise, y_train_RR_matrix, 1)\n",
        "print(\"The Mean Square Error vector of y over the Training set for the different λ: \",mse_train_matrix)\n",
        "plt.title(\"Training set: MSE vs λ's\")\n",
        "plt.plot(lambda_vector, mse_train_matrix, '-')\n",
        "plt.xlabel('λ')\n",
        "plt.ylabel('MSE')\n",
        "plt.show()\n",
        "plt.show()\n",
        "plt.savefig(\"1_2_b.png\")"
      ],
      "metadata": {
        "id": "lXr9A-TtxUUn",
        "colab": {
          "base_uri": "https://localhost:8080/",
          "height": 350
        },
        "outputId": "eee0429e-cc76-46a1-91b4-932189592d49"
      },
      "execution_count": 6,
      "outputs": [
        {
          "output_type": "stream",
          "name": "stdout",
          "text": [
            "The Mean Square Error vector of y over the Training set for the different λ:  [0.06064338 0.06601255 0.06907412 ... 0.12221794 0.12225376 0.12228957]\n"
          ]
        },
        {
          "output_type": "display_data",
          "data": {
            "image/png": "[encoded data removed]",
            "text/plain": [
              "<Figure size 432x288 with 1 Axes>"
            ]
          },
          "metadata": {
            "needs_background": "light"
          }
        },
        {
          "output_type": "display_data",
          "data": {
            "text/plain": [
              "<Figure size 432x288 with 0 Axes>"
            ]
          },
          "metadata": {}
        }
      ]
    },
    {
      "cell_type": "code",
      "execution_count": 10,
      "metadata": {
        "colab": {
          "base_uri": "https://localhost:8080/",
          "height": 384
        },
        "id": "j2CdaL6QFmLF",
        "outputId": "f904162e-578e-4de7-e0fb-a54fc6e75bc7"
      },
      "outputs": [
        {
          "output_type": "stream",
          "name": "stdout",
          "text": [
            "The Mean Square Error vector of y over the Test set for the different λ:  [0.12451294 0.11833776 0.11650016 ... 0.14673787 0.14677156 0.14680523]\n",
            "Minimum MSE for test set:  0.11554946569536184 \n",
            "Optimal lambda of test set:  0.06\n"
          ]
        },
        {
          "output_type": "display_data",
          "data": {
            "image/png": "[encoded data removed]",
            "text/plain": [
              "<Figure size 432x288 with 1 Axes>"
            ]
          },
          "metadata": {
            "needs_background": "light"
          }
        },
        {
          "output_type": "display_data",
          "data": {
            "text/plain": [
              "<Figure size 432x288 with 0 Axes>"
            ]
          },
          "metadata": {}
        }
      ],
      "source": [
        "\"\"\"\n",
        "Test set\n",
        "\"\"\"\n",
        "#Test set comprising of 1000 points randomly selected in the interval [0,2].\n",
        "N_test = 1000\n",
        "X_test_initial = np.random.uniform(lower_bound, upper_bound, N_test)\n",
        "#print(X_testing)\n",
        "\n",
        "#Create the polynomial matrix for X_test and add a column of ones\n",
        "X_test_pol = X_test_initial\n",
        "for i in range(2,degrees_pol+1):\n",
        "    X_test_pol = np.c_[X_test_pol, X_test_initial**(i)]    #add the 5 polynomial degrees of each xi \n",
        "X_test = np.c_[np.ones((N_test,1)), X_test_pol]  #add x0 = 1 to each instance\n",
        "\n",
        "#Calculated the values of y from the true thetas and the X_test array\n",
        "y_test = y_vector(thetas, X_test)\n",
        "\n",
        "noise_vector_test = noise(0, 0.1**0.5, N_test)\n",
        "y_test_noise = np.add(y_test, noise_vector_test)\n",
        "\n",
        "#Predict the y from the test set\n",
        "y_test_newthetas_matrix = y_vector(theta_train_matrix, X_test)\n",
        "\n",
        "#Calculate the MSE\n",
        "mse_test_matrix = mse(y_test_noise, y_test_newthetas_matrix, 1)\n",
        "#print(\"The Mean Square Error vector of y over the Test set for the different λ: \",mse_test_matrix)\n",
        "\n",
        "index_of_min_MSE = np.argmin(mse_test_matrix) #locate the  minimum MSE\n",
        "min_MSE = mse_test_matrix[index_of_min_MSE] #Find the minimum MSE\n",
        "optimal_lambda = lambda_vector[index_of_min_MSE] #save the optimal λ for the minimum MSE \n",
        "print('Minimum MSE for test set: ',str(min_MSE), '\\nOptimal lambda of test set: ', str(optimal_lambda))\n",
        "plt.title(\"Test set: MSE vs λ's\")\n",
        "plt.plot(lambda_vector, mse_test_matrix, '-')\n",
        "plt.xlabel('λ')\n",
        "plt.ylabel('MSE')\n",
        "plt.show()\n",
        "plt.savefig(\"1_3_b.png\")"
      ]
    }
  ]
}